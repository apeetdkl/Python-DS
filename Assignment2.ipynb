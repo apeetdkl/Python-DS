{
  "nbformat": 4,
  "nbformat_minor": 0,
  "metadata": {
    "colab": {
      "provenance": [],
      "authorship_tag": "ABX9TyORNW6I6FJdXCN6k04wFg6Y",
      "include_colab_link": true
    },
    "kernelspec": {
      "name": "python3",
      "display_name": "Python 3"
    },
    "language_info": {
      "name": "python"
    }
  },
  "cells": [
    {
      "cell_type": "markdown",
      "metadata": {
        "id": "view-in-github",
        "colab_type": "text"
      },
      "source": [
        "<a href=\"https://colab.research.google.com/github/apeetdkl/Python-DS/blob/main/Assignment2.ipynb\" target=\"_parent\"><img src=\"https://colab.research.google.com/assets/colab-badge.svg\" alt=\"Open In Colab\"/></a>"
      ]
    },
    {
      "cell_type": "code",
      "source": [
        "import pandas as pd\n",
        "import numpy as np\n",
        "\n",
        "# Step 1: Load all three data files\n",
        "csv_data = pd.read_csv('covid_data.csv')\n",
        "excel_data = pd.read_excel('covid_data.xlsx', engine='openpyxl')\n",
        "json_data = pd.read_json('covid_data.json')\n",
        "\n",
        "# Step 2: Preprocess CSV data\n",
        "csv_data['Date'] = pd.to_datetime(csv_data['Date'], errors='coerce')\n",
        "csv_data.rename(columns={'Name of State / UT': 'Location'}, inplace=True)\n",
        "csv_data['Source'] = 'India_CSV'\n",
        "\n",
        "# Step 3: Preprocess Excel data\n",
        "excel_data['Date'] = pd.to_datetime(excel_data[['year', 'month', 'day']], errors='coerce')\n",
        "excel_data.rename(columns={'countriesAndTerritories': 'Location'}, inplace=True)\n",
        "excel_data['Source'] = 'Global_Excel'\n",
        "\n",
        "# Step 4: Preprocess JSON data\n",
        "# Try to use 'date' or create a placeholder if no date\n",
        "if 'date' in json_data.columns:\n",
        "    json_data['Date'] = pd.to_datetime(json_data['date'], errors='coerce')\n",
        "else:\n",
        "    json_data['Date'] = pd.NaT  # missing dates\n",
        "json_data['Location'] = json_data.get('location', 'Unknown')  # fallback if no location\n",
        "json_data['Source'] = 'JSON'\n",
        "\n",
        "# Step 5: Add mock 'Test_Result' data\n",
        "test_results_pool = ['Positive', 'Negative', 'POS', 'Covid+ve', 'Neg.', 'Covid-ve']\n",
        "for df in [csv_data, excel_data, json_data]:\n",
        "    df['Test_Result'] = np.random.choice(test_results_pool, size=len(df))\n",
        "\n",
        "# Step 6: Normalize test result labels\n",
        "def clean_test_result(result):\n",
        "    result = str(result).lower()\n",
        "    if 'pos' in result or '+ve' in result:\n",
        "        return 'Positive'\n",
        "    elif 'neg' in result or '-ve' in result:\n",
        "        return 'Negative'\n",
        "    return None\n",
        "\n",
        "for df in [csv_data, excel_data, json_data]:\n",
        "    df['Test_Result'] = df['Test_Result'].apply(clean_test_result)\n",
        "\n",
        "# Step 7: Combine datasets\n",
        "combined_data = pd.concat([csv_data, excel_data, json_data], ignore_index=True)\n",
        "\n",
        "# Step 8: Drop duplicates by Location, keeping the latest by Date\n",
        "combined_data.sort_values(by='Date', ascending=False, inplace=True)\n",
        "combined_data.drop_duplicates(subset=['Location'], keep='first', inplace=True)\n",
        "\n",
        "# Step 9: Infer vaccination status (mock: visited center = vaccinated)\n",
        "combined_data['Visited_Vaccine_Center'] = np.random.choice([True, False], size=len(combined_data))\n",
        "combined_data['Vaccinated'] = combined_data['Visited_Vaccine_Center'].apply(lambda x: 'Yes' if x else 'No')\n",
        "\n",
        "# Step 10: Final cleaned dataset\n",
        "final_columns = ['Date', 'Location', 'Test_Result', 'Vaccinated', 'Source']\n",
        "final_data = combined_data[final_columns]\n",
        "\n",
        "# Step 11: Output preview\n",
        "print(final_data.head())\n",
        "\n",
        "# Optional: Save to CSV\n",
        "final_data.to_csv('cleaned_covid_data.csv', index=False)"
      ],
      "metadata": {
        "colab": {
          "base_uri": "https://localhost:8080/"
        },
        "id": "d9Auhdi1RgvM",
        "outputId": "b54f5b01-38ba-4142-da6b-3219511add90"
      },
      "execution_count": 9,
      "outputs": [
        {
          "output_type": "stream",
          "name": "stdout",
          "text": [
            "            Date           Location Test_Result Vaccinated        Source\n",
            "50917 2020-12-14              Qatar    Negative        Yes  Global_Excel\n",
            "29444 2020-12-14      Guinea_Bissau    Negative        Yes  Global_Excel\n",
            "13296 2020-12-14  Brunei_Darussalam    Positive        Yes  Global_Excel\n",
            "56812 2020-12-14        South_Korea    Negative        Yes  Global_Excel\n",
            "9290  2020-12-14         Bangladesh    Negative         No  Global_Excel\n"
          ]
        }
      ]
    },
    {
      "cell_type": "code",
      "execution_count": 1,
      "metadata": {
        "colab": {
          "base_uri": "https://localhost:8080/"
        },
        "id": "XHfUW-N3RWJu",
        "outputId": "07eaffb9-e642-426f-9a99-e7599d8ff79a"
      },
      "outputs": [
        {
          "output_type": "stream",
          "name": "stdout",
          "text": [
            "Requirement already satisfied: pandas in /usr/local/lib/python3.11/dist-packages (2.2.2)\n",
            "Requirement already satisfied: openpyxl in /usr/local/lib/python3.11/dist-packages (3.1.5)\n",
            "Requirement already satisfied: numpy>=1.23.2 in /usr/local/lib/python3.11/dist-packages (from pandas) (2.0.2)\n",
            "Requirement already satisfied: python-dateutil>=2.8.2 in /usr/local/lib/python3.11/dist-packages (from pandas) (2.8.2)\n",
            "Requirement already satisfied: pytz>=2020.1 in /usr/local/lib/python3.11/dist-packages (from pandas) (2025.2)\n",
            "Requirement already satisfied: tzdata>=2022.7 in /usr/local/lib/python3.11/dist-packages (from pandas) (2025.2)\n",
            "Requirement already satisfied: et-xmlfile in /usr/local/lib/python3.11/dist-packages (from openpyxl) (2.0.0)\n",
            "Requirement already satisfied: six>=1.5 in /usr/local/lib/python3.11/dist-packages (from python-dateutil>=2.8.2->pandas) (1.17.0)\n"
          ]
        }
      ],
      "source": [
        "pip install pandas openpyxl\n"
      ]
    },
    {
      "cell_type": "code",
      "source": [
        "import pandas as pd\n",
        "import numpy as np\n",
        "\n",
        "# Step 1: Load the hospital data\n",
        "hospital_data = pd.read_csv('hospital_covid_data.csv')\n",
        "\n",
        "# Step 2: Fix column typo if needed\n",
        "hospital_data.rename(columns=lambda x: x.strip(), inplace=True)\n",
        "if 'ocation' in hospital_data.columns:\n",
        "    hospital_data.rename(columns={'ocation': 'Location'}, inplace=True)\n",
        "\n",
        "# Step 3: Add mock columns to demonstrate cleaning steps\n",
        "np.random.seed(42)  # for reproducibility\n",
        "hospital_data['Name'] = np.random.choice(['joHN doE', 'Alice SMITH', 'Dr. Michael Brown', 'sARAh kHan'], size=len(hospital_data))\n",
        "hospital_data['SpO2'] = np.random.randint(35, 105, size=len(hospital_data))  # some invalid values\n",
        "hospital_data['Age'] = np.random.randint(-20, 210, size=len(hospital_data))  # some unrealistic ages\n",
        "hospital_data['Hospitalized'] = np.nan  # initially missing\n",
        "\n",
        "# Step 4: Standardize patient names (title case, remove \"Dr.\")\n",
        "def clean_name(name):\n",
        "    name = str(name).replace(\"Dr.\", \"\").strip()\n",
        "    return name.title()\n",
        "\n",
        "hospital_data['Name'] = hospital_data['Name'].apply(clean_name)\n",
        "\n",
        "# Step 5: Fix invalid SpO2 values (<40 or >100)\n",
        "hospital_data['SpO2'] = hospital_data['SpO2'].apply(lambda x: np.nan if x < 40 or x > 100 else x)\n",
        "\n",
        "# Step 6: Fix unrealistic ages (<0 or >120)\n",
        "hospital_data['Age'] = hospital_data['Age'].apply(lambda x: np.nan if x < 0 or x > 120 else x)\n",
        "\n",
        "# Step 7: Infer hospitalization if SpO2 < 90%\n",
        "hospital_data['Hospitalized'] = hospital_data.apply(\n",
        "    lambda row: 'Yes' if pd.notna(row['SpO2']) and row['SpO2'] < 90 else 'No', axis=1\n",
        ")\n",
        "\n",
        "# Step 8: Final cleaned dataset (without 'Location')\n",
        "final_columns = ['Name', 'Age', 'SpO2', 'Hospitalized']\n",
        "final_cleaned_data = hospital_data[final_columns]\n",
        "\n",
        "# Step 9: Preview cleaned data\n",
        "print(final_cleaned_data.head())\n",
        "\n",
        "# Optional: Save cleaned data\n",
        "final_cleaned_data.to_csv('cleaned_hospital_covid_data.csv', index=False)"
      ],
      "metadata": {
        "colab": {
          "base_uri": "https://localhost:8080/"
        },
        "id": "TMDtWiQwVn8V",
        "outputId": "6ffceb75-c96f-4cb3-952c-0a364b2afb6a"
      },
      "execution_count": 16,
      "outputs": [
        {
          "output_type": "stream",
          "name": "stdout",
          "text": [
            "            Name    Age  SpO2 Hospitalized\n",
            "0  Michael Brown    NaN  96.0           No\n",
            "1     Sarah Khan   42.0  85.0          Yes\n",
            "2       John Doe  118.0  89.0          Yes\n",
            "3  Michael Brown   60.0  98.0           No\n",
            "4  Michael Brown  115.0   NaN           No\n"
          ]
        }
      ]
    }
  ]
}