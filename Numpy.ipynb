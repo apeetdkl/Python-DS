{
  "nbformat": 4,
  "nbformat_minor": 0,
  "metadata": {
    "colab": {
      "provenance": [],
      "authorship_tag": "ABX9TyM7oGM6Uja1Dt3nsjB4Lwgu",
      "include_colab_link": true
    },
    "kernelspec": {
      "name": "python3",
      "display_name": "Python 3"
    },
    "language_info": {
      "name": "python"
    }
  },
  "cells": [
    {
      "cell_type": "markdown",
      "metadata": {
        "id": "view-in-github",
        "colab_type": "text"
      },
      "source": [
        "<a href=\"https://colab.research.google.com/github/apeetdkl/Python-DS/blob/main/Numpy.ipynb\" target=\"_parent\"><img src=\"https://colab.research.google.com/assets/colab-badge.svg\" alt=\"Open In Colab\"/></a>"
      ]
    },
    {
      "cell_type": "code",
      "execution_count": null,
      "metadata": {
        "colab": {
          "base_uri": "https://localhost:8080/"
        },
        "id": "aNRlXa75_WSR",
        "outputId": "253ac238-19a9-4ee1-d1e3-caea92ed3865"
      },
      "outputs": [
        {
          "output_type": "stream",
          "name": "stdout",
          "text": [
            "1.26.4\n"
          ]
        }
      ],
      "source": [
        "import numpy as np\n",
        "\n",
        "print(np.__version__)\n"
      ]
    },
    {
      "cell_type": "code",
      "source": [
        "import numpy as np\n",
        "arr = np.array([1,2,3,4,5])\n",
        "print (arr)\n",
        "print(type(arr))"
      ],
      "metadata": {
        "colab": {
          "base_uri": "https://localhost:8080/"
        },
        "id": "J-BWbzxtBJo6",
        "outputId": "2cfd43d8-eb8b-4ecf-80db-ff9603fd687a"
      },
      "execution_count": null,
      "outputs": [
        {
          "output_type": "stream",
          "name": "stdout",
          "text": [
            "[1 2 3 4 5]\n",
            "<class 'numpy.ndarray'>\n"
          ]
        }
      ]
    },
    {
      "cell_type": "code",
      "source": [
        "import numpy as np\n",
        "zero_d_array = np.array(194)\n",
        "print(\"0D Array (Scalar):\")\n",
        "print(zero_d_array)\n",
        "\n",
        "\n",
        "one_d_array = np.array([1, 2, 3, 4, 5])\n",
        "print(\"\\n1D Array:\")\n",
        "print(one_d_array)\n",
        "\n",
        "\n",
        "two_d_array = np.array([[1, 2, 3], [4, 5, 6], [7, 8, 9]])\n",
        "print(\"\\n2D Array:\")\n",
        "print(two_d_array)\n",
        "\n",
        "three_d_array = np.array([[[1, 2], [3, 4]], [[5, 6], [7, 8]]])\n",
        "print(\"\\n3D Array:\")\n",
        "print(three_d_array)\n",
        "\n",
        "n = 4\n",
        "shape = (2,) * n\n",
        "n_d_array = np.zeros(shape)\n",
        "\n",
        "print(f\"\\n{n}D Array (filled with zeros):\")\n",
        "print(n_d_array)"
      ],
      "metadata": {
        "colab": {
          "base_uri": "https://localhost:8080/"
        },
        "id": "FhViy6WXBvQ0",
        "outputId": "76b735dd-217e-49cb-c427-f1e44970fd9c"
      },
      "execution_count": null,
      "outputs": [
        {
          "output_type": "stream",
          "name": "stdout",
          "text": [
            "0D Array (Scalar):\n",
            "194\n",
            "\n",
            "1D Array:\n",
            "[1 2 3 4 5]\n",
            "\n",
            "2D Array:\n",
            "[[1 2 3]\n",
            " [4 5 6]\n",
            " [7 8 9]]\n",
            "\n",
            "3D Array:\n",
            "[[[1 2]\n",
            "  [3 4]]\n",
            "\n",
            " [[5 6]\n",
            "  [7 8]]]\n",
            "\n",
            "4D Array (filled with zeros):\n",
            "[[[[0. 0.]\n",
            "   [0. 0.]]\n",
            "\n",
            "  [[0. 0.]\n",
            "   [0. 0.]]]\n",
            "\n",
            "\n",
            " [[[0. 0.]\n",
            "   [0. 0.]]\n",
            "\n",
            "  [[0. 0.]\n",
            "   [0. 0.]]]]\n"
          ]
        }
      ]
    },
    {
      "cell_type": "code",
      "source": [
        "import numpy as np\n",
        "array = np.arange(30,)\n",
        "print (array)"
      ],
      "metadata": {
        "colab": {
          "base_uri": "https://localhost:8080/"
        },
        "id": "-VPI9-RWESuq",
        "outputId": "97b8b564-1ed4-44af-d800-a464dfb384b9"
      },
      "execution_count": null,
      "outputs": [
        {
          "output_type": "stream",
          "name": "stdout",
          "text": [
            "[ 0  1  2  3  4  5  6  7  8  9 10 11 12 13 14 15 16 17 18 19 20 21 22 23\n",
            " 24 25 26 27 28 29]\n"
          ]
        }
      ]
    },
    {
      "cell_type": "code",
      "source": [
        "import numpy as np\n",
        "\n",
        "# Create a 0D array (scalar)\n",
        "zero_d_array = np.array(42)\n",
        "print(\"0D Array (Scalar):\")\n",
        "print(zero_d_array)\n",
        "print(\"Number of dimensions:\", zero_d_array.ndim)  # Check dimensions\n",
        "\n",
        "# Create a 1D array\n",
        "one_d_array = np.array([1, 2, 3, 4, 5])\n",
        "print(\"\\n1D Array:\")\n",
        "print(one_d_array)\n",
        "print(\"Number of dimensions:\", one_d_array.ndim)  # Check dimensions\n",
        "\n",
        "# Create a 2D array\n",
        "two_d_array = np.array([[1, 2, 3], [4, 5, 6], [7, 8, 9]])\n",
        "print(\"\\n2D Array:\")\n",
        "print(two_d_array)\n",
        "print(\"Number of dimensions:\", two_d_array.ndim)  # Check dimensions\n",
        "\n",
        "# Create a 3D array (example of an n-D array)\n",
        "three_d_array = np.array([[[1, 2], [3, 4]], [[5, 6], [7, 8]]])\n",
        "print(\"\\n3D Array:\")\n",
        "print(three_d_array)\n",
        "print(\"Number of dimensions:\", three_d_array.ndim)  # Check dimensions\n",
        "\n",
        "# General approach for creating an n-D array\n",
        "n = 4  # Desired number of dimensions\n",
        "shape = (2,) * n  # Create a tuple representing the shape of the array\n",
        "n_d_array = np.zeros(shape)  # Create an n-D array filled with zeros\n",
        "\n",
        "print(f\"\\n{n}D Array (filled with zeros):\")\n",
        "print(n_d_array)\n",
        "print(\"Number of dimensions:\", n_d_array.ndim)  # Check dimensions"
      ],
      "metadata": {
        "colab": {
          "base_uri": "https://localhost:8080/"
        },
        "id": "4W9HBLqYGHlL",
        "outputId": "a905b541-27ee-4a94-f98b-33bdce163f0f"
      },
      "execution_count": null,
      "outputs": [
        {
          "output_type": "stream",
          "name": "stdout",
          "text": [
            "0D Array (Scalar):\n",
            "42\n",
            "Number of dimensions: 0\n",
            "\n",
            "1D Array:\n",
            "[1 2 3 4 5]\n",
            "Number of dimensions: 1\n",
            "\n",
            "2D Array:\n",
            "[[1 2 3]\n",
            " [4 5 6]\n",
            " [7 8 9]]\n",
            "Number of dimensions: 2\n",
            "\n",
            "3D Array:\n",
            "[[[1 2]\n",
            "  [3 4]]\n",
            "\n",
            " [[5 6]\n",
            "  [7 8]]]\n",
            "Number of dimensions: 3\n",
            "\n",
            "4D Array (filled with zeros):\n",
            "[[[[0. 0.]\n",
            "   [0. 0.]]\n",
            "\n",
            "  [[0. 0.]\n",
            "   [0. 0.]]]\n",
            "\n",
            "\n",
            " [[[0. 0.]\n",
            "   [0. 0.]]\n",
            "\n",
            "  [[0. 0.]\n",
            "   [0. 0.]]]]\n",
            "Number of dimensions: 4\n"
          ]
        }
      ]
    },
    {
      "cell_type": "markdown",
      "source": [
        "Create the array numbers from 0 to 19 and the matrix consist of 4 rows and 5 columns"
      ],
      "metadata": {
        "id": "QVLU7jVpGdWa"
      }
    },
    {
      "cell_type": "code",
      "source": [
        "import numpy as np\n",
        "array = np.arange(20)\n",
        "matrix = array.reshape(4, 5)\n",
        "print(matrix)\n",
        "\n"
      ],
      "metadata": {
        "colab": {
          "base_uri": "https://localhost:8080/"
        },
        "id": "aeXA16eBGcZM",
        "outputId": "eb1f991d-a751-45bd-de38-01d544147be4"
      },
      "execution_count": null,
      "outputs": [
        {
          "output_type": "stream",
          "name": "stdout",
          "text": [
            "[[ 0  1  2  3  4]\n",
            " [ 5  6  7  8  9]\n",
            " [10 11 12 13 14]\n",
            " [15 16 17 18 19]]\n"
          ]
        }
      ]
    },
    {
      "cell_type": "code",
      "source": [
        "import numpy as np\n",
        "array = np.zeros([2,4])\n",
        "print (array)"
      ],
      "metadata": {
        "colab": {
          "base_uri": "https://localhost:8080/"
        },
        "id": "s69POTVXH7Gw",
        "outputId": "f4a989bc-0efe-4941-bc4a-d5fe5bd4c60f"
      },
      "execution_count": null,
      "outputs": [
        {
          "output_type": "stream",
          "name": "stdout",
          "text": [
            "[[0. 0. 0. 0.]\n",
            " [0. 0. 0. 0.]]\n"
          ]
        }
      ]
    },
    {
      "cell_type": "code",
      "source": [
        "import numpy as np\n",
        "array = np.eye(4)\n",
        "print (array)"
      ],
      "metadata": {
        "colab": {
          "base_uri": "https://localhost:8080/"
        },
        "id": "N908s7gPJrLk",
        "outputId": "94375843-75c7-46fb-f02f-772e5f8ae939"
      },
      "execution_count": null,
      "outputs": [
        {
          "output_type": "stream",
          "name": "stdout",
          "text": [
            "[[1. 0. 0. 0.]\n",
            " [0. 1. 0. 0.]\n",
            " [0. 0. 1. 0.]\n",
            " [0. 0. 0. 1.]]\n"
          ]
        }
      ]
    },
    {
      "cell_type": "code",
      "source": [
        "import numpy as np\n",
        "array = np.ones([3,6])\n",
        "print(array)"
      ],
      "metadata": {
        "colab": {
          "base_uri": "https://localhost:8080/"
        },
        "id": "_4TZikfcJ8WJ",
        "outputId": "23ae8bb5-3662-4146-e160-08ec2d30bb2f"
      },
      "execution_count": null,
      "outputs": [
        {
          "output_type": "stream",
          "name": "stdout",
          "text": [
            "[[1. 1. 1. 1. 1. 1.]\n",
            " [1. 1. 1. 1. 1. 1.]\n",
            " [1. 1. 1. 1. 1. 1.]]\n"
          ]
        }
      ]
    },
    {
      "cell_type": "code",
      "source": [
        "import numpy as np\n",
        "array = np.full((3),2)\n",
        "print (array)"
      ],
      "metadata": {
        "colab": {
          "base_uri": "https://localhost:8080/"
        },
        "id": "Up8Xj47XKMpM",
        "outputId": "91bff511-db94-4f2d-ea34-f80f0a5ec18f"
      },
      "execution_count": null,
      "outputs": [
        {
          "output_type": "stream",
          "name": "stdout",
          "text": [
            "[2 2 2]\n"
          ]
        }
      ]
    },
    {
      "cell_type": "code",
      "source": [
        "import numpy as np\n",
        "array = np.full([2,2],3)\n",
        "print(array)"
      ],
      "metadata": {
        "colab": {
          "base_uri": "https://localhost:8080/"
        },
        "id": "ISAZC7AWKv2K",
        "outputId": "a99e9168-6890-4ba6-d42e-ffe5689961b9"
      },
      "execution_count": null,
      "outputs": [
        {
          "output_type": "stream",
          "name": "stdout",
          "text": [
            "[[3 3]\n",
            " [3 3]]\n"
          ]
        }
      ]
    },
    {
      "cell_type": "code",
      "source": [
        "import numpy as np\n",
        "array=np.random.rand(2,2,2)\n",
        "print (array)"
      ],
      "metadata": {
        "colab": {
          "base_uri": "https://localhost:8080/"
        },
        "id": "kzr_LFrlLe5P",
        "outputId": "71d9e657-bb80-43ed-dd3a-5ed0340b4d57"
      },
      "execution_count": null,
      "outputs": [
        {
          "output_type": "stream",
          "name": "stdout",
          "text": [
            "[[[0.47281264 0.19607645]\n",
            "  [0.6113752  0.95075889]]\n",
            "\n",
            " [[0.2053919  0.45353531]\n",
            "  [0.51857269 0.31054977]]]\n"
          ]
        }
      ]
    },
    {
      "cell_type": "markdown",
      "source": [
        "Create a array with a number of 1,2,3,4,5,6,7 and print the third position element"
      ],
      "metadata": {
        "id": "tCBwLh6EM9_s"
      }
    },
    {
      "cell_type": "code",
      "source": [
        "import numpy as np\n",
        "array = np.array([1, 2, 3, 4, 5, 6, 7])\n",
        "print(array[2])"
      ],
      "metadata": {
        "colab": {
          "base_uri": "https://localhost:8080/"
        },
        "id": "fzLAsIQiL73c",
        "outputId": "f7ecbcd7-6c47-4ad6-d467-cc76b6ac1cf4"
      },
      "execution_count": null,
      "outputs": [
        {
          "output_type": "stream",
          "name": "stdout",
          "text": [
            "3\n"
          ]
        }
      ]
    },
    {
      "cell_type": "code",
      "source": [
        "import numpy as np\n",
        "array = ([1,2,8,6,5,6,7])\n",
        "print(array[2:5])"
      ],
      "metadata": {
        "colab": {
          "base_uri": "https://localhost:8080/"
        },
        "id": "8uiOeVfbOEQL",
        "outputId": "1b3aba7d-aec7-4773-9cf3-ee63e0f536aa"
      },
      "execution_count": null,
      "outputs": [
        {
          "output_type": "stream",
          "name": "stdout",
          "text": [
            "[8, 6, 5]\n"
          ]
        }
      ]
    },
    {
      "cell_type": "code",
      "source": [
        "import numpy as np\n",
        "arr = np.array([1,2,3,4,5,4,5,5])\n",
        "x = np.where(arr==5)\n",
        "print(x)"
      ],
      "metadata": {
        "colab": {
          "base_uri": "https://localhost:8080/"
        },
        "id": "5kSlAv8cPFhh",
        "outputId": "d71d4987-558d-464d-e622-69e357749e85"
      },
      "execution_count": null,
      "outputs": [
        {
          "output_type": "stream",
          "name": "stdout",
          "text": [
            "(array([4, 6, 7]),)\n"
          ]
        }
      ]
    },
    {
      "cell_type": "markdown",
      "source": [
        "Join the array , sort the array, reverse an array"
      ],
      "metadata": {
        "id": "6v013va-QPZ1"
      }
    },
    {
      "cell_type": "code",
      "source": [
        "import numpy as np\n",
        "arr1 = np.array([1, 2, 3])\n",
        "arr2 = np.array([4, 5, 6])\n",
        "arr3 = np.array([3,7,1,0,6])\n",
        "joined_arr= np.concatenate((arr1, arr2))\n",
        "sorted_arr = np.sort(arr3)\n",
        "reverse_arr = joined_arr[::-1]\n",
        "print(joined_arr)\n",
        "print(sorted_arr)\n",
        "print(reverse_arr)"
      ],
      "metadata": {
        "colab": {
          "base_uri": "https://localhost:8080/"
        },
        "id": "Z11Cr2z0QKxx",
        "outputId": "9a7337c9-73db-4ebe-acda-4194d20e7f35"
      },
      "execution_count": null,
      "outputs": [
        {
          "output_type": "stream",
          "name": "stdout",
          "text": [
            "[1 2 3 4 5 6]\n",
            "[0 1 3 6 7]\n",
            "[6 5 4 3 2 1]\n"
          ]
        }
      ]
    },
    {
      "cell_type": "code",
      "source": [],
      "metadata": {
        "id": "dLXGNKWGREfe"
      },
      "execution_count": null,
      "outputs": []
    }
  ]
}